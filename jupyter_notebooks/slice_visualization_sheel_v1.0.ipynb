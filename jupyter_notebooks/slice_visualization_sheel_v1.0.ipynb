{
 "cells": [
  {
   "cell_type": "code",
   "execution_count": 146,
   "metadata": {},
   "outputs": [],
   "source": [
    "# Setting up the environments\n",
    "\n",
    "import numpy as np\n",
    "import matplotlib as ml\n",
    "import matplotlib.pyplot as plt\n",
    "import ioeddy as io \n",
    "import matplotlib.gridspec as gridspec\n",
    "import pandas as pd\n",
    "import struct as st\n",
    "\n",
    "import seaborn as sns\n",
    "import cmocean\n",
    "import palettable\n",
    "import time\n",
    "import csv\n",
    "import ioeddy as io\n",
    "from   scipy.io import FortranFile\n",
    "# from mpl_toolkits.axes_grid1 import make_axes_locatable \n",
    "# from matplotlib.legend_handler import HandlerBase\n",
    "\n",
    "\n",
    "# fss = 2*8;\n",
    "# fsl = 2*10;\n",
    "\n",
    "# lwr = 2*1;\n",
    "# lws = 2*0.8;\n",
    "\n",
    "# sns.set_context('paper')\n",
    "# sns.set(color_codes=True, font_scale=1.75)\n",
    "# sns.set_palette('PuBuGn_d')\n",
    "# sns.set_style('ticks', {'font.family'     : ['serif'],\n",
    "#                         'font.serif'      : ['Times'],\n",
    "#                         'xtick.major.size': 3.0,\n",
    "#                         'xtick.minor.size': 1.5,\n",
    "#                         'ytick.major.size': 3.0,\n",
    "#                         'ytick.minor.size': 1.5,\n",
    "#                         'axes.edgecolor'  : 'k',\n",
    "#                         'axes.labelcolor' : 'k',\n",
    "#                         'text.color'      : 'k',\n",
    "#                         'xtick.color'     : 'k',\n",
    "#                         'ytick.color'     : 'k',\n",
    "#                         'image.cmap'      : 'PuBuGn'})\n",
    "\n",
    "\n",
    "# plt.rc('figure', figsize=[8.0, 5.0])\n",
    "\n",
    "# plt.rc('mathtext', fontset='stix')\n",
    "\n",
    "# plt.rc('axes', linewidth=1.0)\n",
    "# plt.rc('xtick.major', width=1.0)\n",
    "# plt.rc('ytick.major', width=1.0)\n",
    "# plt.rc('xtick.minor', width=1.0)\n",
    "# plt.rc('ytick.minor', width=1.0)\n",
    "\n",
    "# plt.rc('font', size=fss)\n",
    "# plt.rc('xtick', labelsize=fss)\n",
    "# plt.rc('ytick', labelsize=fss)\n",
    "# plt.rc('axes', labelsize=fsl)\n",
    "# plt.rc('axes', titlesize=fss)\n",
    "\n",
    "# plt.rc('lines', linewidth=1.0)\n",
    "# plt.rc('lines', markersize=4.0)\n",
    "\n",
    "# plt.rc('pdf', fonttype=3)\n",
    "# plt.rc('ps', fonttype=3)\n",
    "# plt.rc('text', usetex=True)\n",
    "\n",
    "# plt.rc('font',**{'family':'serif','serif':['Times']})\n",
    "\n",
    "# plt.rc('text.latex', preamble=[r\"\\usepackage[T1# Map the grid to actual location of the data files"
   ]
  },
  {
   "cell_type": "code",
   "execution_count": 147,
   "metadata": {},
   "outputs": [
    {
     "name": "stdout",
     "output_type": "stream",
     "text": [
      "Number of grid points in x direction 4609\n",
      "Number of grid points in r direction 365\n"
     ]
    }
   ],
   "source": [
    "# Read Grid\n",
    "nx, index, x, xe, xc = io.readgrid('/home/sheel/Work2/RE5E4_DATA/frinf/data_files/x3_grid.in')\n",
    "nr, index, r, re, rc = io.readgrid('/home/sheel/Work2/RE5E4_DATA/frinf/data_files/x1_grid.in')\n",
    "#nth, index, th, the, thc = io.readgrid('/work/res_interpolation/x2_grid.in')\n",
    "\n",
    "print(\"Number of grid points in x direction\", nx)\n",
    "print(\"Number of grid points in r direction\", nr)"
   ]
  },
  {
   "cell_type": "code",
   "execution_count": 176,
   "metadata": {},
   "outputs": [
    {
     "name": "stdout",
     "output_type": "stream",
     "text": [
      "/home/sheel/Work2/RE5E4_DATA/frinf/data_files/x_D_30/wp_02111700_30.res\n"
     ]
    }
   ],
   "source": [
    "# Reading data from the cut file\n",
    "n = 2111700\n",
    "path = '/home/sheel/Work2/RE5E4_DATA/frinf/data_files/x_D_30/'\n",
    "file = 'wp_'\n",
    "n_pad = str(n).zfill(8)\n",
    "filename = path + file +  n_pad + '_30.res'\n",
    "print(filename)\n",
    "data_1 = np.fromfile(filename, dtype='float64')\n",
    "data_1 = np.reshape(data_1, (ntheta, nr-10+1))\n",
    "data_1 = data_1.T\n",
    "#data_1[0:3,10]"
   ]
  },
  {
   "cell_type": "code",
   "execution_count": 177,
   "metadata": {},
   "outputs": [
    {
     "name": "stdout",
     "output_type": "stream",
     "text": [
      "/home/sheel/Work2/RE5E4_DATA/frinf/data_files/x_D_50/wp_02111700_50.res\n"
     ]
    }
   ],
   "source": [
    "# Reading data from the cut file\n",
    "n = 2111700\n",
    "path = '/home/sheel/Work2/RE5E4_DATA/frinf/data_files/x_D_50/'\n",
    "file = 'wp_'\n",
    "n_pad = str(n).zfill(8)\n",
    "filename = path + file +  n_pad + '_50.res'\n",
    "print(filename)\n",
    "data_2 = np.fromfile(filename, dtype='float64')\n",
    "data_2 = np.reshape(data_2, (ntheta, nr-10+1))\n",
    "data_2 = data_2.T\n",
    "#data_1[0:3,10]"
   ]
  },
  {
   "cell_type": "code",
   "execution_count": 180,
   "metadata": {},
   "outputs": [
    {
     "name": "stdout",
     "output_type": "stream",
     "text": [
      "[0.97679932 0.97380169 0.97422606]\n",
      "[0.96951856 0.96569662 0.96172966]\n"
     ]
    }
   ],
   "source": [
    "print(data_1[0:3,1])\n",
    "print(data_2[0:3,1])"
   ]
  },
  {
   "cell_type": "code",
   "execution_count": 139,
   "metadata": {},
   "outputs": [],
   "source": [
    "# azimuths = np.linspace(-(0.5)*2*np.pi/(ntheta-2),2*np.pi+0.5*2*np.pi/(ntheta-2) , ntheta) \n",
    "# r, theta = np.meshgrid(azimuths, rc[:-10])"
   ]
  },
  {
   "cell_type": "code",
   "execution_count": 161,
   "metadata": {},
   "outputs": [],
   "source": [
    "# #-- Plot... ------------------------------------------------\n",
    "# print(r.shape)\n",
    "# print(theta.shape)\n",
    "# print(data_1.shape)\n",
    "# fig, ax = plt.subplots(subplot_kw=dict(projection='polar'))\n",
    "# ax.contourf(theta, r, data_1, cmap = 'seisimic')\n",
    "# plt.show()\n"
   ]
  }
 ],
 "metadata": {
  "kernelspec": {
   "display_name": "Python 3",
   "language": "python",
   "name": "python3"
  },
  "language_info": {
   "codemirror_mode": {
    "name": "ipython",
    "version": 3
   },
   "file_extension": ".py",
   "mimetype": "text/x-python",
   "name": "python",
   "nbconvert_exporter": "python",
   "pygments_lexer": "ipython3",
   "version": "3.6.8"
  }
 },
 "nbformat": 4,
 "nbformat_minor": 2
}
